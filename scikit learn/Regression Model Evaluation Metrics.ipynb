{
 "cells": [
  {
   "cell_type": "code",
   "execution_count": null,
   "id": "22b2c3e3-5650-4c4f-afcf-10d180d536b8",
   "metadata": {},
   "outputs": [],
   "source": [
    "# Regression Model Evaluation Metrics"
   ]
  },
  {
   "cell_type": "code",
   "execution_count": null,
   "id": "3bebff51-4041-4398-961d-dd41f8eea711",
   "metadata": {},
   "outputs": [],
   "source": [
    "from sklearn.datasets import fetch_california_housing\n",
    "from sklearn.linear_model import LinearRegression\n",
    "from sklearn.model_selection import train_test_split\n",
    "from sklearn.metrics import (\n",
    "    mean_absolute_error, mean_squared_error, r2_score, \n",
    "    mean_absolute_percentage_error, max_error\n",
    ")\n",
    "import numpy as np\n",
    "\n",
    "# Load data\n",
    "X, y = fetch_california_housing(return_X_y=True)\n",
    "\n",
    "# Split\n",
    "X_train, X_test, y_train, y_test = train_test_split(X, y, test_size=0.2, random_state=42)\n",
    "\n",
    "# Model\n",
    "model = LinearRegression()\n",
    "model.fit(X_train, y_train)\n",
    "y_pred = model.predict(X_test)\n",
    "\n",
    "# Metrics\n",
    "print(\"✅ Mean Absolute Error (MAE):\", mean_absolute_error(y_test, y_pred))\n",
    "print(\"✅ Mean Squared Error (MSE):\", mean_squared_error(y_test, y_pred))\n",
    "print(\"✅ Root Mean Squared Error (RMSE):\", np.sqrt(mean_squared_error(y_test, y_pred)))\n",
    "print(\"✅ Mean Absolute Percentage Error (MAPE):\", mean_absolute_percentage_error(y_test, y_pred))\n",
    "print(\"✅ R² Score:\", r2_score(y_test, y_pred))\n",
    "print(\"✅ Max Error:\", max_error(y_test, y_pred))\n"
   ]
  }
 ],
 "metadata": {
  "kernelspec": {
   "display_name": "Python 3 (ipykernel)",
   "language": "python",
   "name": "python3"
  },
  "language_info": {
   "codemirror_mode": {
    "name": "ipython",
    "version": 3
   },
   "file_extension": ".py",
   "mimetype": "text/x-python",
   "name": "python",
   "nbconvert_exporter": "python",
   "pygments_lexer": "ipython3",
   "version": "3.12.4"
  }
 },
 "nbformat": 4,
 "nbformat_minor": 5
}
