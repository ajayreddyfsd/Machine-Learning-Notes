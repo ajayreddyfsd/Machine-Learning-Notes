{
 "cells": [
  {
   "cell_type": "code",
   "execution_count": null,
   "id": "4e7a86d7-c009-48d2-b2e3-6db2da17cf0f",
   "metadata": {},
   "outputs": [],
   "source": []
  },
  {
   "cell_type": "code",
   "execution_count": null,
   "id": "56525a27-e5a6-4361-a573-7655df97f4ae",
   "metadata": {},
   "outputs": [],
   "source": [
    "from sklearn.datasets import load_iris\n",
    "from sklearn.ensemble import RandomForestClassifier\n",
    "from sklearn.model_selection import RandomizedSearchCV, train_test_split\n",
    "from sklearn.metrics import classification_report\n",
    "from scipy.stats import randint\n",
    "import pprint\n",
    "\n",
    "# Load data\n",
    "X, y = load_iris(return_X_y=True)\n",
    "X_train, X_test, y_train, y_test = train_test_split(X, y, test_size=0.3, random_state=42)\n",
    "\n",
    "# Define model\n",
    "model = RandomForestClassifier(random_state=42)\n",
    "\n",
    "# Define parameter distribution (ranges for random sampling)\n",
    "param_dist = {\n",
    "    'n_estimators': randint(10, 200),\n",
    "    'max_depth': [None] + list(range(5, 20)),\n",
    "    'min_samples_split': randint(2, 10),\n",
    "    'min_samples_leaf': randint(1, 5),\n",
    "    'max_features': ['sqrt', 'log2']\n",
    "}\n",
    "\n",
    "# Randomized Search\n",
    "random_search = RandomizedSearchCV(estimator=model,\n",
    "                                   param_distributions=param_dist,\n",
    "                                   n_iter=20,  # Try 20 random combinations\n",
    "                                   cv=5,\n",
    "                                   scoring='accuracy',\n",
    "                                   n_jobs=-1,\n",
    "                                   verbose=2,\n",
    "                                   random_state=42)\n",
    "\n",
    "# Fit and evaluate\n",
    "random_search.fit(X_train, y_train)\n",
    "\n",
    "print(\"\\n✅ Best Hyperparameters:\")\n",
    "pprint.pprint(random_search.best_params_)\n",
    "\n",
    "print(\"\\n✅ Best Cross-Validation Score:\", random_search.best_score_)\n",
    "\n",
    "# Predict and report\n",
    "y_pred = random_search.best_estimator_.predict(X_test)\n",
    "print(\"\\n✅ Classification Report on Test Set:\\n\", classification_report(y_test, y_pred))\n"
   ]
  }
 ],
 "metadata": {
  "kernelspec": {
   "display_name": "Python 3 (ipykernel)",
   "language": "python",
   "name": "python3"
  },
  "language_info": {
   "codemirror_mode": {
    "name": "ipython",
    "version": 3
   },
   "file_extension": ".py",
   "mimetype": "text/x-python",
   "name": "python",
   "nbconvert_exporter": "python",
   "pygments_lexer": "ipython3",
   "version": "3.12.4"
  }
 },
 "nbformat": 4,
 "nbformat_minor": 5
}
