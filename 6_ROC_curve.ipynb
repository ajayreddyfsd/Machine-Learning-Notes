{
 "cells": [
  {
   "cell_type": "code",
   "execution_count": null,
   "id": "0d2a1b7f-cb6e-4218-bf2e-01c270978b52",
   "metadata": {},
   "outputs": [],
   "source": []
  }
 ],
 "metadata": {
  "kernelspec": {
   "display_name": "",
   "name": ""
  },
  "language_info": {
   "name": ""
  }
 },
 "nbformat": 4,
 "nbformat_minor": 5
}
