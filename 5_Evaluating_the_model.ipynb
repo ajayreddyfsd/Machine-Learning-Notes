{
 "cells": [
  {
   "cell_type": "code",
   "execution_count": null,
   "id": "084967f1-0f86-48b2-80b1-5a100ac0dcb7",
   "metadata": {},
   "outputs": [],
   "source": []
  }
 ],
 "metadata": {
  "kernelspec": {
   "display_name": "",
   "name": ""
  },
  "language_info": {
   "name": ""
  }
 },
 "nbformat": 4,
 "nbformat_minor": 5
}
